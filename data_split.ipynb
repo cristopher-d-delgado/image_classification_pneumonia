{
 "cells": [
  {
   "cell_type": "markdown",
   "metadata": {},
   "source": [
    "# Data Split \n",
    "\n",
    "Our data only has Train and Test. We need to split one of the folder to make a validation folder. Its most likely going to be the test folder that has more images. Lets check how many of each image type we have in our subdirectories"
   ]
  },
  {
   "cell_type": "code",
   "execution_count": 2,
   "metadata": {},
   "outputs": [
    {
     "data": {
      "image/png": "[encoded data removed]",
      "text/plain": [
       "<Figure size 432x288 with 1 Axes>"
      ]
     },
     "metadata": {
      "needs_background": "light"
     },
     "output_type": "display_data"
    },
    {
     "data": {
      "image/png": "[encoded data removed]",
      "text/plain": [
       "<Figure size 432x288 with 1 Axes>"
      ]
     },
     "metadata": {
      "needs_background": "light"
     },
     "output_type": "display_data"
    }
   ],
   "source": [
    "import os\n",
    "import seaborn as sns\n",
    "import matplotlib.pyplot as plt\n",
    "\n",
    "# Identify Test and Train folders\n",
    "\n",
    "train_folder = \"data/chest_xray/train/\"\n",
    "test_folder = \"data/chest_xray/test/\"\n",
    "\n",
    "# Count the number of files in each subdirectory\n",
    "train_normal = len(os.listdir(os.path.join(train_folder, \"NORMAL\")))\n",
    "train_pneu = len(os.listdir(os.path.join(train_folder, \"PNEUMONIA\")))\n",
    "test_normal = len(os.listdir(os.path.join(test_folder, \"NORMAL\")))\n",
    "test_pneu = len(os.listdir(os.path.join(test_folder, \"PNEUMONIA\")))\n",
    "\n",
    "# Create a bar plot\n",
    "sns.barplot(x=[\"Normal\", \"Pneumonia\"], y=[train_normal, train_pneu])\n",
    "plt.title('Train Data Distribution')\n",
    "plt.show()\n",
    "\n",
    "sns.barplot(x=[\"Normal\", \"Pneumonia\"], y=[test_normal, test_pneu])\n",
    "plt.title('Test Data Distribution')\n",
    "plt.show()\n"
   ]
  },
  {
   "cell_type": "markdown",
   "metadata": {},
   "source": [
    "Lets make our validation folder have more pneumonia on purpose so we can balance our train set. We can take 10% of the normal and 30% of the pneumonia"
   ]
  },
  {
   "cell_type": "code",
   "execution_count": 3,
   "metadata": {},
   "outputs": [],
   "source": [
    "import os\n",
    "import shutil\n",
    "import random\n",
    "\n",
    "# Identify Train and Validation folders\n",
    "train_folder = \"data/chest_xray/train/\"\n",
    "validation_folder = \"data/chest_xray/validation/\"\n",
    "\n",
    "# Create validation folder if it doesn't exist\n",
    "os.makedirs(validation_folder, exist_ok=True)\n",
    "\n",
    "# Define the subdirectories\n",
    "subdirectories = [\"NORMAL\", \"PNEUMONIA\"]\n",
    "\n",
    "# Define the number of images to move to validation for each subdirectory\n",
    "val_images_per_class = 100\n",
    "\n",
    "# Loop through each subdirectory\n",
    "for subdirectory in subdirectories:\n",
    "    # Get the list of files in the subdirectory\n",
    "    files = os.listdir(os.path.join(train_folder, subdirectory))\n",
    "    \n",
    "    # Ensure that the number of validation images doesn't exceed the total number of images in the subdirectory\n",
    "    val_size = min(val_images_per_class, len(files))\n",
    "    \n",
    "    # Select a random subset for validation\n",
    "    val_files = random.sample(files, val_size)\n",
    "    \n",
    "    # Move files to the validation folder\n",
    "    for file in val_files:\n",
    "        src_path = os.path.join(train_folder, subdirectory, file)\n",
    "        dest_path = os.path.join(validation_folder, subdirectory, file)\n",
    "        os.makedirs(os.path.dirname(dest_path), exist_ok=True)\n",
    "        shutil.move(src_path, dest_path)"
   ]
  },
  {
   "cell_type": "code",
   "execution_count": 4,
   "metadata": {},
   "outputs": [
    {
     "data": {
      "image/png": "[encoded data removed]",
      "text/plain": [
       "<Figure size 432x288 with 1 Axes>"
      ]
     },
     "metadata": {
      "needs_background": "light"
     },
     "output_type": "display_data"
    },
    {
     "data": {
      "image/png": "[encoded data removed]",
      "text/plain": [
       "<Figure size 432x288 with 1 Axes>"
      ]
     },
     "metadata": {
      "needs_background": "light"
     },
     "output_type": "display_data"
    }
   ],
   "source": [
    "import os\n",
    "import seaborn as sns \n",
    "import matplotlib.pyplot as plt\n",
    "# Identify Train and validation folders\n",
    "\n",
    "train_folder = \"data/chest_xray/train/\"\n",
    "validation_folder = \"data/chest_xray/validation\"\n",
    "\n",
    "# Count the number of files in each subdirectory\n",
    "train_normal = len(os.listdir(os.path.join(train_folder, \"NORMAL\")))\n",
    "train_pneu = len(os.listdir(os.path.join(train_folder, \"PNEUMONIA\")))\n",
    "\n",
    "val_normal = len(os.listdir(os.path.join(validation_folder, \"NORMAL\")))\n",
    "val_pneu = len(os.listdir(os.path.join(validation_folder, \"PNEUMONIA\")))\n",
    "\n",
    "\n",
    "# Create a bar plot\n",
    "sns.barplot(x=[\"Normal\", \"Pneumonia\"], y=[train_normal, train_pneu])\n",
    "plt.title('Train Data Distribution')\n",
    "plt.show()\n",
    "\n",
    "sns.barplot(x=[\"Normal\", \"Pneumonia\"], y=[val_normal, val_pneu])\n",
    "plt.title('Val Data Distribution')\n",
    "plt.show()"
   ]
  },
  {
   "cell_type": "code",
   "execution_count": 6,
   "metadata": {},
   "outputs": [
    {
     "name": "stdout",
     "output_type": "stream",
     "text": [
      "There are 1249 normal images in the training set\n",
      "There are 3783 pneumonia images in the training set\n",
      "________________________________________________________________________________________\n",
      "There are 235 normal images in the testing set\n",
      "There are 390 pneumonia images in the testing set\n",
      "________________________________________________________________________________________\n",
      "There are 100 normal images in the validation set\n",
      "There are 100 pneumonia images in the validation set\n"
     ]
    }
   ],
   "source": [
    "import os\n",
    "\n",
    "data_path = \"data/chest_xray/\"\n",
    "data_path\n",
    "\n",
    "# Specificy paths for train, test, val\n",
    "train_folder = os.path.join(data_path, 'train/')\n",
    "test_folder = os.path.join(data_path, 'test/')\n",
    "val_folder = os.path.join(data_path, 'validation/')\n",
    "\n",
    "# Specify paths for labels\n",
    "train_normal = os.path.join(train_folder, 'NORMAL')\n",
    "train_pneumonia = os.path.join(train_folder, 'PNEUMONIA')\n",
    "test_normal = os.path.join(test_folder, \"NORMAL\")\n",
    "test_pneumonia = os.path.join(test_folder, \"PNEUMONIA\")\n",
    "val_normal = os.path.join(val_folder, \"NORMAL\")\n",
    "val_pneumonia = os.path.join(val_folder, \"PNEUMONIA\")\n",
    "\n",
    "print('There are', len(os.listdir(train_normal)), 'normal images in the training set')\n",
    "print('There are', len(os.listdir(train_pneumonia)), 'pneumonia images in the training set')\n",
    "print(\"________________________________________________________________________________________\")\n",
    "print('There are', len(os.listdir(test_normal)), 'normal images in the testing set')\n",
    "print('There are', len(os.listdir(test_pneumonia)), 'pneumonia images in the testing set')\n",
    "print(\"________________________________________________________________________________________\")\n",
    "print('There are', len(os.listdir(val_normal)), 'normal images in the validation set')\n",
    "print('There are', len(os.listdir(val_pneumonia)), 'pneumonia images in the validation set')"
   ]
  }
 ],
 "metadata": {
  "kernelspec": {
   "display_name": "flatiron2",
   "language": "python",
   "name": "python3"
  },
  "language_info": {
   "codemirror_mode": {
    "name": "ipython",
    "version": 3
   },
   "file_extension": ".py",
   "mimetype": "text/x-python",
   "name": "python",
   "nbconvert_exporter": "python",
   "pygments_lexer": "ipython3",
   "version": "3.8.5"
  }
 },
 "nbformat": 4,
 "nbformat_minor": 2
}
